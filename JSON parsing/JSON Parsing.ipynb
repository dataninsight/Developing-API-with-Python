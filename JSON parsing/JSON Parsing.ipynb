{
 "cells": [
  {
   "cell_type": "markdown",
   "id": "09beaf0e",
   "metadata": {},
   "source": [
    "# JSON Parsing"
   ]
  },
  {
   "cell_type": "markdown",
   "id": "32163b71",
   "metadata": {},
   "source": [
    "## 1. Parse a JSON string in Python"
   ]
  },
  {
   "cell_type": "code",
   "execution_count": 3,
   "id": "61c639de",
   "metadata": {},
   "outputs": [
    {
     "name": "stdout",
     "output_type": "stream",
     "text": [
      "<class 'str'>\n",
      "{'name': 'Joe', 'coding languages': ['C++', 'Ruby on Rails']}\n",
      "Joe\n",
      "['C++', 'Ruby on Rails']\n",
      "C++\n",
      "Ruby on Rails\n"
     ]
    }
   ],
   "source": [
    "import json\n",
    "# json string\n",
    "coder = '{\"name\": \"Joe\", \"coding languages\": [\"C++\", \"Ruby on Rails\"]}'\n",
    "print(type(coder))\n",
    "# parses the data and assign it to a variable called coder_dict\n",
    "coder_dict = json.loads(coder)\n",
    "# The output will be {‘name’: ‘Joe’, ‘coding languages’: [‘C++’, ‘Ruby on Rails’]}\n",
    "print(coder_dict)\n",
    "# The output will be [‘C++’, ‘Ruby on Rails’]\n",
    "print(coder_dict['name'])\n",
    "print(coder_dict['coding languages'])\n",
    "print(coder_dict['coding languages'][0])\n",
    "print(coder_dict['coding languages'][1])"
   ]
  },
  {
   "cell_type": "markdown",
   "id": "80822216",
   "metadata": {},
   "source": [
    "## 2. Reading JSON files in Python\n",
    "\n",
    "#### You can use json.load() to read files with JSON objects. You can parse the file by running a command to fetch json\n",
    "\n",
    "coder.json with a JSON object: {“name”: “Joe”,“coding languages”: [“C++”, “Ruby on Rails”]}"
   ]
  },
  {
   "cell_type": "code",
   "execution_count": 10,
   "id": "30be0a0d",
   "metadata": {},
   "outputs": [
    {
     "name": "stdout",
     "output_type": "stream",
     "text": [
      "{'name': 'Joe', 'coding languages': ['C++', 'Ruby on Rails']}\n"
     ]
    }
   ],
   "source": [
    "import json\n",
    "with open(\"E:\\Desktop\\coders.json\", \"r\") as f:\n",
    "    data = json.load(f)\n",
    "# The output will be {‘name’: ‘Joe’, ‘coding languages’: [‘C++’, ‘Ruby on Rails’]}\n",
    "print(data)\n",
    "# The open() function reads the JSON file, \n",
    "# while json.load() parses the file to give us the dictionary called data."
   ]
  },
  {
   "cell_type": "markdown",
   "id": "ed1dfebb",
   "metadata": {},
   "source": [
    "## 3. Use Python create JSON object"
   ]
  },
  {
   "cell_type": "code",
   "execution_count": 12,
   "id": "22523812",
   "metadata": {},
   "outputs": [
    {
     "name": "stdout",
     "output_type": "stream",
     "text": [
      "{\"name\": \"John\", \"age\": 39, \"children\": 2}\n"
     ]
    }
   ],
   "source": [
    "# To convert a dictionary or Python object to JSON string, \n",
    "# you can fetch JSON and use the json.dumps() method.\n",
    "import json\n",
    "person_dict = {\"name\": \"John\",\"age\": 39,\"children\": 2}\n",
    "person_json = json.dumps(person_dict)\n",
    "# The output will be {“name”: “John”, “age”: 39, “children”: 2}\n",
    "print(person_json)"
   ]
  },
  {
   "cell_type": "markdown",
   "id": "c1db92ef",
   "metadata": {},
   "source": [
    "## 4. Use Python write JSON to file"
   ]
  },
  {
   "cell_type": "code",
   "execution_count": 14,
   "id": "c4d21eb7",
   "metadata": {},
   "outputs": [],
   "source": [
    "# Then, we involve Python write JSON to file by using the json.dump() method as follows:\n",
    "import json\n",
    "person_dict = {\"name\": \"Aubrey\",\"languages\": [\"English\", \"Japanese\"],\"married\": False,\"age\": 28}\n",
    "with open(\"person.txt\", \"w\") as json_file:\n",
    "    json.dump(person_dict, json_file)"
   ]
  },
  {
   "cell_type": "markdown",
   "id": "686940d7",
   "metadata": {},
   "source": [
    "## 5. Print JSON"
   ]
  },
  {
   "cell_type": "code",
   "execution_count": 16,
   "id": "d7fcae6e",
   "metadata": {},
   "outputs": [
    {
     "name": "stdout",
     "output_type": "stream",
     "text": [
      "{\n",
      "    \"languages\": \"German\",\n",
      "    \"name\": \"Joseph\",\n",
      "    \"numbers\": [\n",
      "        3,\n",
      "        1.7,\n",
      "        null\n",
      "    ]\n",
      "}\n"
     ]
    }
   ],
   "source": [
    "# The last parse Json Python step is printing JSON data in a more readable \n",
    "# format to analyze and debug the information. You can do this by passing additional parameters sort_keys \n",
    "# and indent to json.dump() and json.dumps().\n",
    "import json\n",
    "person_string = '{\"name\": \"Joseph\", \"languages\": \"German\", \"numbers\": [3, 1.7, null]}'\n",
    "# Fetches the dictionary\n",
    "person_dict = json.loads(person_string)\n",
    "# Prints this JSON data\n",
    "print(json.dumps(person_dict, indent = 4, sort_keys=True))"
   ]
  }
 ],
 "metadata": {
  "kernelspec": {
   "display_name": "Python 3 (ipykernel)",
   "language": "python",
   "name": "python3"
  },
  "language_info": {
   "codemirror_mode": {
    "name": "ipython",
    "version": 3
   },
   "file_extension": ".py",
   "mimetype": "text/x-python",
   "name": "python",
   "nbconvert_exporter": "python",
   "pygments_lexer": "ipython3",
   "version": "3.9.12"
  }
 },
 "nbformat": 4,
 "nbformat_minor": 5
}
